{
 "cells": [
  {
   "cell_type": "code",
   "execution_count": 1,
   "metadata": {},
   "outputs": [],
   "source": [
    "import matplotlib\n",
    "\n",
    "matplotlib.rc('font', family = 'Malgun Gothic')"
   ]
  },
  {
   "cell_type": "code",
   "execution_count": 2,
   "metadata": {},
   "outputs": [],
   "source": [
    "import warnings\n",
    "\n",
    "warnings.filterwarnings('ignore')"
   ]
  },
  {
   "cell_type": "code",
   "execution_count": 3,
   "metadata": {},
   "outputs": [],
   "source": [
    "matplotlib.rc('axes', unicode_minus = False)"
   ]
  },
  {
   "cell_type": "code",
   "execution_count": 4,
   "metadata": {},
   "outputs": [
    {
     "name": "stdout",
     "output_type": "stream",
     "text": [
      "당신의 키는  200 입니다.\n"
     ]
    }
   ],
   "source": [
    "height = input(\"당신의 키는?\")\n",
    "print(\"당신의 키는 \", height, \"입니다.\")"
   ]
  },
  {
   "cell_type": "code",
   "execution_count": 5,
   "metadata": {},
   "outputs": [
    {
     "data": {
      "text/plain": [
       "str"
      ]
     },
     "execution_count": 5,
     "metadata": {},
     "output_type": "execute_result"
    }
   ],
   "source": [
    "type(height)"
   ]
  },
  {
   "cell_type": "code",
   "execution_count": 6,
   "metadata": {},
   "outputs": [
    {
     "name": "stdout",
     "output_type": "stream",
     "text": [
      "200\n"
     ]
    }
   ],
   "source": [
    "height = int(input(\"당신의 키는?\"))\n",
    "print(height)"
   ]
  },
  {
   "cell_type": "code",
   "execution_count": 7,
   "metadata": {},
   "outputs": [
    {
     "name": "stdout",
     "output_type": "stream",
     "text": [
      "200.0\n"
     ]
    }
   ],
   "source": [
    "height = float(input(\"당신의 키는?\"))\n",
    "print(height)"
   ]
  },
  {
   "cell_type": "code",
   "execution_count": 8,
   "metadata": {},
   "outputs": [
    {
     "name": "stdout",
     "output_type": "stream",
     "text": [
      "정사각형의 넓이 :  144\n"
     ]
    }
   ],
   "source": [
    "a = input(\"정사각형 한 변의 길이는? \")\n",
    "area = int(a) ** 2\n",
    "print(\"정사각형의 넓이 : \", area)"
   ]
  },
  {
   "cell_type": "code",
   "execution_count": 9,
   "metadata": {},
   "outputs": [
    {
     "name": "stdout",
     "output_type": "stream",
     "text": [
      "hello\n"
     ]
    }
   ],
   "source": [
    "print(\"hello\")"
   ]
  },
  {
   "cell_type": "code",
   "execution_count": 10,
   "metadata": {},
   "outputs": [
    {
     "data": {
      "text/plain": [
       "'hello'"
      ]
     },
     "execution_count": 10,
     "metadata": {},
     "output_type": "execute_result"
    }
   ],
   "source": [
    "\"hello\""
   ]
  },
  {
   "cell_type": "code",
   "execution_count": 11,
   "metadata": {},
   "outputs": [
    {
     "data": {
      "text/plain": [
       "76"
      ]
     },
     "execution_count": 11,
     "metadata": {},
     "output_type": "execute_result"
    }
   ],
   "source": [
    "55 + 21"
   ]
  },
  {
   "cell_type": "code",
   "execution_count": 12,
   "metadata": {},
   "outputs": [
    {
     "name": "stdout",
     "output_type": "stream",
     "text": [
      "I Love You "
     ]
    }
   ],
   "source": [
    "print(\"I\", end =' ')\n",
    "print(\"Love\", end = ' ')\n",
    "print(\"You\", end = ' ')"
   ]
  },
  {
   "cell_type": "code",
   "execution_count": 13,
   "metadata": {},
   "outputs": [
    {
     "name": "stdout",
     "output_type": "stream",
     "text": [
      "I2YOU\n"
     ]
    }
   ],
   "source": [
    "print(\"I\" \"2\" \"YOU\")"
   ]
  },
  {
   "cell_type": "code",
   "execution_count": 14,
   "metadata": {},
   "outputs": [
    {
     "name": "stdout",
     "output_type": "stream",
     "text": [
      "I 2 YOU\n"
     ]
    }
   ],
   "source": [
    "print(\"I\", 2, \"YOU\")"
   ]
  },
  {
   "cell_type": "code",
   "execution_count": 15,
   "metadata": {},
   "outputs": [
    {
     "name": "stdout",
     "output_type": "stream",
     "text": [
      "I2YOU\n"
     ]
    }
   ],
   "source": [
    "print(\"I\" + str(2) + \"YOU\")"
   ]
  },
  {
   "cell_type": "code",
   "execution_count": 16,
   "metadata": {},
   "outputs": [
    {
     "name": "stdout",
     "output_type": "stream",
     "text": [
      "Hello, John!\n"
     ]
    }
   ],
   "source": [
    "name = \"John\"\n",
    "print(\"Hello, %s!\" % name)"
   ]
  },
  {
   "cell_type": "code",
   "execution_count": 17,
   "metadata": {},
   "outputs": [
    {
     "name": "stdout",
     "output_type": "stream",
     "text": [
      "John은 23 살입니다.\n"
     ]
    }
   ],
   "source": [
    "age = 23\n",
    "print(\"%s은 %d 살입니다.\" % (name, age))"
   ]
  },
  {
   "cell_type": "code",
   "execution_count": 18,
   "metadata": {},
   "outputs": [
    {
     "name": "stdout",
     "output_type": "stream",
     "text": [
      "one two\n"
     ]
    }
   ],
   "source": [
    "print('%s %s' % ('one', 'two'))"
   ]
  },
  {
   "cell_type": "code",
   "execution_count": 19,
   "metadata": {},
   "outputs": [
    {
     "name": "stdout",
     "output_type": "stream",
     "text": [
      "1 2\n"
     ]
    }
   ],
   "source": [
    "print('%d %d' % (1, 2))"
   ]
  },
  {
   "cell_type": "code",
   "execution_count": 20,
   "metadata": {},
   "outputs": [
    {
     "name": "stdout",
     "output_type": "stream",
     "text": [
      "    1     2\n"
     ]
    }
   ],
   "source": [
    "print('%5d %5d' % (1, 2))"
   ]
  },
  {
   "cell_type": "code",
   "execution_count": 21,
   "metadata": {},
   "outputs": [
    {
     "name": "stdout",
     "output_type": "stream",
     "text": [
      "3.142\n"
     ]
    }
   ],
   "source": [
    "print('%.3f' % 3.14159)"
   ]
  },
  {
   "cell_type": "code",
   "execution_count": 22,
   "metadata": {},
   "outputs": [
    {
     "name": "stdout",
     "output_type": "stream",
     "text": [
      "     3.142\n"
     ]
    }
   ],
   "source": [
    "print('%10.3f' % 3.14159)"
   ]
  },
  {
   "cell_type": "code",
   "execution_count": 23,
   "metadata": {},
   "outputs": [
    {
     "name": "stdout",
     "output_type": "stream",
     "text": [
      "   3.14159\n"
     ]
    }
   ],
   "source": [
    "print('%10s' % 3.14159)"
   ]
  },
  {
   "cell_type": "code",
   "execution_count": 24,
   "metadata": {},
   "outputs": [
    {
     "name": "stdout",
     "output_type": "stream",
     "text": [
      "3.14159   \n"
     ]
    }
   ],
   "source": [
    "print('%-10s' % 3.14159)"
   ]
  },
  {
   "cell_type": "code",
   "execution_count": 25,
   "metadata": {},
   "outputs": [
    {
     "name": "stdout",
     "output_type": "stream",
     "text": [
      "one two\n"
     ]
    }
   ],
   "source": [
    "print('{} {}'.format('one', 'two'))"
   ]
  },
  {
   "cell_type": "code",
   "execution_count": 26,
   "metadata": {},
   "outputs": [
    {
     "name": "stdout",
     "output_type": "stream",
     "text": [
      "1 2\n"
     ]
    }
   ],
   "source": [
    "print('{} {}'.format(1, 2))"
   ]
  },
  {
   "cell_type": "code",
   "execution_count": 27,
   "metadata": {},
   "outputs": [
    {
     "name": "stdout",
     "output_type": "stream",
     "text": [
      "    1     2\n"
     ]
    }
   ],
   "source": [
    "print('{:5} {:5}'.format(1, 2))"
   ]
  },
  {
   "cell_type": "code",
   "execution_count": 28,
   "metadata": {},
   "outputs": [
    {
     "name": "stdout",
     "output_type": "stream",
     "text": [
      "two one\n"
     ]
    }
   ],
   "source": [
    "print('{1} {0}'.format('one', 'two'))"
   ]
  },
  {
   "cell_type": "code",
   "execution_count": 29,
   "metadata": {},
   "outputs": [
    {
     "name": "stdout",
     "output_type": "stream",
     "text": [
      "3.142\n"
     ]
    }
   ],
   "source": [
    "print('{:.3f}'.format(3.14159))"
   ]
  },
  {
   "cell_type": "code",
   "execution_count": 30,
   "metadata": {},
   "outputs": [
    {
     "name": "stdout",
     "output_type": "stream",
     "text": [
      "     3.142\n"
     ]
    }
   ],
   "source": [
    "print('{:10.3f}'.format(3.14159))"
   ]
  },
  {
   "cell_type": "code",
   "execution_count": 31,
   "metadata": {},
   "outputs": [
    {
     "name": "stdout",
     "output_type": "stream",
     "text": [
      "   3.14159\n"
     ]
    }
   ],
   "source": [
    "print('{:10}'.format(3.14159))"
   ]
  },
  {
   "cell_type": "code",
   "execution_count": 32,
   "metadata": {},
   "outputs": [
    {
     "name": "stdout",
     "output_type": "stream",
     "text": [
      "3.14159   \n"
     ]
    }
   ],
   "source": [
    "print('{:<10}'.format(3.14159))"
   ]
  },
  {
   "cell_type": "code",
   "execution_count": 33,
   "metadata": {},
   "outputs": [
    {
     "name": "stdout",
     "output_type": "stream",
     "text": [
      "3.14159___\n"
     ]
    }
   ],
   "source": [
    "print('{:_<10}'.format(3.14159))"
   ]
  },
  {
   "cell_type": "code",
   "execution_count": 34,
   "metadata": {},
   "outputs": [
    {
     "name": "stdout",
     "output_type": "stream",
     "text": [
      " 3.14159  \n"
     ]
    }
   ],
   "source": [
    "print('{:^10}'.format(3.14159))"
   ]
  },
  {
   "cell_type": "code",
   "execution_count": 35,
   "metadata": {},
   "outputs": [
    {
     "name": "stdout",
     "output_type": "stream",
     "text": [
      "_3.14159__\n"
     ]
    }
   ],
   "source": [
    "print('{:_^10}'.format(3.14159))"
   ]
  },
  {
   "cell_type": "code",
   "execution_count": 36,
   "metadata": {},
   "outputs": [],
   "source": [
    "f = open(\"C:\\\\Users\\\\Song\\\\Desktop\\\\OCU_python\\\\새파일.txt\", \"w\")\n",
    "for i in range(1, 11):\n",
    "    data = \"%d번째 줄입니다.\\n\" % i\n",
    "    f.write(data)\n",
    "f.close()"
   ]
  },
  {
   "cell_type": "code",
   "execution_count": 37,
   "metadata": {},
   "outputs": [
    {
     "name": "stdout",
     "output_type": "stream",
     "text": [
      "1번째 줄입니다.\n",
      "\n"
     ]
    }
   ],
   "source": [
    "f = open(\"C:\\\\Users\\\\Song\\\\Desktop\\\\OCU_python\\\\새파일.txt\", \"r\")\n",
    "line = f.readline()\n",
    "print(line)\n",
    "f.close()"
   ]
  },
  {
   "cell_type": "code",
   "execution_count": 38,
   "metadata": {},
   "outputs": [
    {
     "name": "stdout",
     "output_type": "stream",
     "text": [
      "1번째 줄입니다.\n",
      "\n",
      "2번째 줄입니다.\n",
      "\n",
      "3번째 줄입니다.\n",
      "\n",
      "4번째 줄입니다.\n",
      "\n",
      "5번째 줄입니다.\n",
      "\n",
      "6번째 줄입니다.\n",
      "\n",
      "7번째 줄입니다.\n",
      "\n",
      "8번째 줄입니다.\n",
      "\n",
      "9번째 줄입니다.\n",
      "\n",
      "10번째 줄입니다.\n",
      "\n"
     ]
    }
   ],
   "source": [
    "f = open(\"C:\\\\Users\\\\Song\\\\Desktop\\\\OCU_python\\\\새파일.txt\", \"r\")\n",
    "while True:\n",
    "    line = f.readline()\n",
    "    if not line:\n",
    "        break\n",
    "    print(line)\n",
    "f.close()"
   ]
  },
  {
   "cell_type": "code",
   "execution_count": 39,
   "metadata": {},
   "outputs": [
    {
     "name": "stdout",
     "output_type": "stream",
     "text": [
      "1번째 줄입니다.\n",
      "\n",
      "2번째 줄입니다.\n",
      "\n",
      "3번째 줄입니다.\n",
      "\n",
      "4번째 줄입니다.\n",
      "\n",
      "5번째 줄입니다.\n",
      "\n",
      "6번째 줄입니다.\n",
      "\n",
      "7번째 줄입니다.\n",
      "\n",
      "8번째 줄입니다.\n",
      "\n",
      "9번째 줄입니다.\n",
      "\n",
      "10번째 줄입니다.\n",
      "\n"
     ]
    }
   ],
   "source": [
    "f = open(\"C:\\\\Users\\\\Song\\\\Desktop\\\\OCU_python\\\\새파일.txt\", \"r\")\n",
    "lines = f.readlines()\n",
    "for line in lines:\n",
    "    print(line)\n",
    "f.close()"
   ]
  },
  {
   "cell_type": "code",
   "execution_count": 40,
   "metadata": {},
   "outputs": [
    {
     "name": "stdout",
     "output_type": "stream",
     "text": [
      "1번째 줄입니다.\n",
      "2번째 줄입니다.\n",
      "3번째 줄입니다.\n",
      "4번째 줄입니다.\n",
      "5번째 줄입니다.\n",
      "6번째 줄입니다.\n",
      "7번째 줄입니다.\n",
      "8번째 줄입니다.\n",
      "9번째 줄입니다.\n",
      "10번째 줄입니다.\n",
      "\n"
     ]
    }
   ],
   "source": [
    "f = open(\"C:\\\\Users\\\\Song\\\\Desktop\\\\OCU_python\\\\새파일.txt\", \"r\")\n",
    "data = f.read()\n",
    "print(data)\n",
    "f.close()"
   ]
  },
  {
   "cell_type": "code",
   "execution_count": 41,
   "metadata": {},
   "outputs": [],
   "source": [
    "f = open(\"C:\\\\Users\\\\Song\\\\Desktop\\\\OCU_python\\\\새파일.txt\", \"a\")\n",
    "for i in range(11, 20):\n",
    "    data = \"%d번째 줄입니다.\\n\" % i\n",
    "    f.write(data)\n",
    "f.close()"
   ]
  },
  {
   "cell_type": "code",
   "execution_count": 42,
   "metadata": {},
   "outputs": [
    {
     "name": "stdout",
     "output_type": "stream",
     "text": [
      "1번째 줄입니다.\n",
      "\n",
      "2번째 줄입니다.\n",
      "\n",
      "3번째 줄입니다.\n",
      "\n",
      "4번째 줄입니다.\n",
      "\n",
      "5번째 줄입니다.\n",
      "\n",
      "6번째 줄입니다.\n",
      "\n",
      "7번째 줄입니다.\n",
      "\n",
      "8번째 줄입니다.\n",
      "\n",
      "9번째 줄입니다.\n",
      "\n",
      "10번째 줄입니다.\n",
      "\n",
      "11번째 줄입니다.\n",
      "\n",
      "12번째 줄입니다.\n",
      "\n",
      "13번째 줄입니다.\n",
      "\n",
      "14번째 줄입니다.\n",
      "\n",
      "15번째 줄입니다.\n",
      "\n",
      "16번째 줄입니다.\n",
      "\n",
      "17번째 줄입니다.\n",
      "\n",
      "18번째 줄입니다.\n",
      "\n",
      "19번째 줄입니다.\n",
      "\n"
     ]
    }
   ],
   "source": [
    "f = open(\"C:\\\\Users\\\\Song\\\\Desktop\\\\OCU_python\\\\새파일.txt\", \"r\")\n",
    "lines = f.readlines()\n",
    "for line in lines:\n",
    "    print(line)\n",
    "f.close()"
   ]
  },
  {
   "cell_type": "code",
   "execution_count": 43,
   "metadata": {},
   "outputs": [
    {
     "name": "stdout",
     "output_type": "stream",
     "text": [
      "Overwriting C:/Users/Song/Desktop/OCU_python/테스트데이터.txt\n"
     ]
    }
   ],
   "source": [
    "%%writefile C:/Users/Song/Desktop/OCU_python/테스트데이터.txt\n",
    "이름,국어,수학,영어\n",
    "홍길동, 85, 90, 75\n",
    "이순신, 80, 85, 95\n",
    "강감찬, 90, 85, 100"
   ]
  },
  {
   "cell_type": "code",
   "execution_count": 44,
   "metadata": {},
   "outputs": [
    {
     "data": {
      "text/html": [
       "<div>\n",
       "<style scoped>\n",
       "    .dataframe tbody tr th:only-of-type {\n",
       "        vertical-align: middle;\n",
       "    }\n",
       "\n",
       "    .dataframe tbody tr th {\n",
       "        vertical-align: top;\n",
       "    }\n",
       "\n",
       "    .dataframe thead th {\n",
       "        text-align: right;\n",
       "    }\n",
       "</style>\n",
       "<table border=\"1\" class=\"dataframe\">\n",
       "  <thead>\n",
       "    <tr style=\"text-align: right;\">\n",
       "      <th></th>\n",
       "      <th>일자</th>\n",
       "      <th>가격</th>\n",
       "      <th>구매여부</th>\n",
       "      <th>제품</th>\n",
       "    </tr>\n",
       "  </thead>\n",
       "  <tbody>\n",
       "    <tr>\n",
       "      <th>0</th>\n",
       "      <td>2019-01-01</td>\n",
       "      <td>1000</td>\n",
       "      <td>False</td>\n",
       "      <td>gum</td>\n",
       "    </tr>\n",
       "    <tr>\n",
       "      <th>1</th>\n",
       "      <td>2019-01-04</td>\n",
       "      <td>1500</td>\n",
       "      <td>True</td>\n",
       "      <td>snack</td>\n",
       "    </tr>\n",
       "    <tr>\n",
       "      <th>2</th>\n",
       "      <td>2019-01-07</td>\n",
       "      <td>2000</td>\n",
       "      <td>True</td>\n",
       "      <td>beverage</td>\n",
       "    </tr>\n",
       "    <tr>\n",
       "      <th>3</th>\n",
       "      <td>2019-01-10</td>\n",
       "      <td>2500</td>\n",
       "      <td>True</td>\n",
       "      <td>dongas</td>\n",
       "    </tr>\n",
       "    <tr>\n",
       "      <th>4</th>\n",
       "      <td>2019-01-13</td>\n",
       "      <td>3000</td>\n",
       "      <td>True</td>\n",
       "      <td>alchoal</td>\n",
       "    </tr>\n",
       "  </tbody>\n",
       "</table>\n",
       "</div>"
      ],
      "text/plain": [
       "           일자    가격   구매여부        제품\n",
       "0  2019-01-01  1000  False       gum\n",
       "1  2019-01-04  1500   True     snack\n",
       "2  2019-01-07  2000   True  beverage\n",
       "3  2019-01-10  2500   True    dongas\n",
       "4  2019-01-13  3000   True   alchoal"
      ]
     },
     "execution_count": 44,
     "metadata": {},
     "output_type": "execute_result"
    }
   ],
   "source": [
    "import pandas as pd\n",
    "\n",
    "table = {\"일자\": ['2019-01-01', '2019-01-04', '2019-01-07', '2019-01-10', '2019-01-13'],\n",
    "        \"가격\": [1000, 1500, 2000, 2500, 3000],\n",
    "        \"구매여부\": ['False', 'True', 'True', 'True', 'True'],\n",
    "        \"제품\": ['gum', 'snack', 'beverage', 'dongas', 'alchoal']}\n",
    "df = pd.DataFrame(table)\n",
    "df"
   ]
  },
  {
   "cell_type": "code",
   "execution_count": 45,
   "metadata": {},
   "outputs": [
    {
     "data": {
      "text/html": [
       "<div>\n",
       "<style scoped>\n",
       "    .dataframe tbody tr th:only-of-type {\n",
       "        vertical-align: middle;\n",
       "    }\n",
       "\n",
       "    .dataframe tbody tr th {\n",
       "        vertical-align: top;\n",
       "    }\n",
       "\n",
       "    .dataframe thead th {\n",
       "        text-align: right;\n",
       "    }\n",
       "</style>\n",
       "<table border=\"1\" class=\"dataframe\">\n",
       "  <thead>\n",
       "    <tr style=\"text-align: right;\">\n",
       "      <th></th>\n",
       "      <th>일자</th>\n",
       "      <th>가격</th>\n",
       "      <th>구매여부</th>\n",
       "      <th>제품</th>\n",
       "    </tr>\n",
       "  </thead>\n",
       "  <tbody>\n",
       "    <tr>\n",
       "      <th>0</th>\n",
       "      <td>2019-01-01</td>\n",
       "      <td>1000</td>\n",
       "      <td>False</td>\n",
       "      <td>gum</td>\n",
       "    </tr>\n",
       "    <tr>\n",
       "      <th>1</th>\n",
       "      <td>2019-01-04</td>\n",
       "      <td>1500</td>\n",
       "      <td>True</td>\n",
       "      <td>snack</td>\n",
       "    </tr>\n",
       "  </tbody>\n",
       "</table>\n",
       "</div>"
      ],
      "text/plain": [
       "           일자    가격   구매여부     제품\n",
       "0  2019-01-01  1000  False    gum\n",
       "1  2019-01-04  1500   True  snack"
      ]
     },
     "execution_count": 45,
     "metadata": {},
     "output_type": "execute_result"
    }
   ],
   "source": [
    "df.head(2)"
   ]
  },
  {
   "cell_type": "code",
   "execution_count": 46,
   "metadata": {},
   "outputs": [
    {
     "data": {
      "text/html": [
       "<div>\n",
       "<style scoped>\n",
       "    .dataframe tbody tr th:only-of-type {\n",
       "        vertical-align: middle;\n",
       "    }\n",
       "\n",
       "    .dataframe tbody tr th {\n",
       "        vertical-align: top;\n",
       "    }\n",
       "\n",
       "    .dataframe thead th {\n",
       "        text-align: right;\n",
       "    }\n",
       "</style>\n",
       "<table border=\"1\" class=\"dataframe\">\n",
       "  <thead>\n",
       "    <tr style=\"text-align: right;\">\n",
       "      <th></th>\n",
       "      <th>일자</th>\n",
       "      <th>가격</th>\n",
       "      <th>구매여부</th>\n",
       "      <th>제품</th>\n",
       "    </tr>\n",
       "  </thead>\n",
       "  <tbody>\n",
       "    <tr>\n",
       "      <th>3</th>\n",
       "      <td>2019-01-10</td>\n",
       "      <td>2500</td>\n",
       "      <td>True</td>\n",
       "      <td>dongas</td>\n",
       "    </tr>\n",
       "    <tr>\n",
       "      <th>4</th>\n",
       "      <td>2019-01-13</td>\n",
       "      <td>3000</td>\n",
       "      <td>True</td>\n",
       "      <td>alchoal</td>\n",
       "    </tr>\n",
       "  </tbody>\n",
       "</table>\n",
       "</div>"
      ],
      "text/plain": [
       "           일자    가격  구매여부       제품\n",
       "3  2019-01-10  2500  True   dongas\n",
       "4  2019-01-13  3000  True  alchoal"
      ]
     },
     "execution_count": 46,
     "metadata": {},
     "output_type": "execute_result"
    }
   ],
   "source": [
    "df.tail(2)"
   ]
  },
  {
   "cell_type": "code",
   "execution_count": 47,
   "metadata": {},
   "outputs": [
    {
     "data": {
      "text/html": [
       "<div>\n",
       "<style scoped>\n",
       "    .dataframe tbody tr th:only-of-type {\n",
       "        vertical-align: middle;\n",
       "    }\n",
       "\n",
       "    .dataframe tbody tr th {\n",
       "        vertical-align: top;\n",
       "    }\n",
       "\n",
       "    .dataframe thead th {\n",
       "        text-align: right;\n",
       "    }\n",
       "</style>\n",
       "<table border=\"1\" class=\"dataframe\">\n",
       "  <thead>\n",
       "    <tr style=\"text-align: right;\">\n",
       "      <th></th>\n",
       "      <th>NAME</th>\n",
       "      <th>GENDER</th>\n",
       "      <th>AGE</th>\n",
       "      <th>AGEGROUP</th>\n",
       "      <th>WEIGHT</th>\n",
       "      <th>OXY</th>\n",
       "      <th>RUNTIME</th>\n",
       "      <th>RUNPULSE</th>\n",
       "      <th>RSTPULSE</th>\n",
       "      <th>MAXPULSE</th>\n",
       "    </tr>\n",
       "  </thead>\n",
       "  <tbody>\n",
       "    <tr>\n",
       "      <th>0</th>\n",
       "      <td>Donna</td>\n",
       "      <td>여성</td>\n",
       "      <td>42</td>\n",
       "      <td>40대</td>\n",
       "      <td>68.15</td>\n",
       "      <td>59.571</td>\n",
       "      <td>8.17</td>\n",
       "      <td>166</td>\n",
       "      <td>40</td>\n",
       "      <td>172</td>\n",
       "    </tr>\n",
       "    <tr>\n",
       "      <th>1</th>\n",
       "      <td>Gracie</td>\n",
       "      <td>여성</td>\n",
       "      <td>38</td>\n",
       "      <td>30대</td>\n",
       "      <td>81.87</td>\n",
       "      <td>60.055</td>\n",
       "      <td>8.63</td>\n",
       "      <td>170</td>\n",
       "      <td>48</td>\n",
       "      <td>186</td>\n",
       "    </tr>\n",
       "    <tr>\n",
       "      <th>2</th>\n",
       "      <td>Luanne</td>\n",
       "      <td>여성</td>\n",
       "      <td>43</td>\n",
       "      <td>40대</td>\n",
       "      <td>85.84</td>\n",
       "      <td>54.297</td>\n",
       "      <td>8.65</td>\n",
       "      <td>156</td>\n",
       "      <td>45</td>\n",
       "      <td>168</td>\n",
       "    </tr>\n",
       "    <tr>\n",
       "      <th>3</th>\n",
       "      <td>Mimi</td>\n",
       "      <td>여성</td>\n",
       "      <td>50</td>\n",
       "      <td>50대</td>\n",
       "      <td>70.87</td>\n",
       "      <td>54.625</td>\n",
       "      <td>8.92</td>\n",
       "      <td>146</td>\n",
       "      <td>48</td>\n",
       "      <td>155</td>\n",
       "    </tr>\n",
       "    <tr>\n",
       "      <th>4</th>\n",
       "      <td>Chris</td>\n",
       "      <td>남성</td>\n",
       "      <td>49</td>\n",
       "      <td>40대</td>\n",
       "      <td>81.42</td>\n",
       "      <td>49.156</td>\n",
       "      <td>8.95</td>\n",
       "      <td>180</td>\n",
       "      <td>44</td>\n",
       "      <td>185</td>\n",
       "    </tr>\n",
       "  </tbody>\n",
       "</table>\n",
       "</div>"
      ],
      "text/plain": [
       "     NAME GENDER  AGE AGEGROUP  WEIGHT     OXY  RUNTIME  RUNPULSE  RSTPULSE  \\\n",
       "0   Donna     여성   42      40대   68.15  59.571     8.17       166        40   \n",
       "1  Gracie     여성   38      30대   81.87  60.055     8.63       170        48   \n",
       "2  Luanne     여성   43      40대   85.84  54.297     8.65       156        45   \n",
       "3    Mimi     여성   50      50대   70.87  54.625     8.92       146        48   \n",
       "4   Chris     남성   49      40대   81.42  49.156     8.95       180        44   \n",
       "\n",
       "   MAXPULSE  \n",
       "0       172  \n",
       "1       186  \n",
       "2       168  \n",
       "3       155  \n",
       "4       185  "
      ]
     },
     "execution_count": 47,
     "metadata": {},
     "output_type": "execute_result"
    }
   ],
   "source": [
    "import pandas as pd\n",
    "\n",
    "df = pd.read_csv(\"C:\\\\Users\\\\Song\\\\Desktop\\\\OCU_python\\\\data\\\\FITNESS.csv\", encoding = 'euc-kr')\n",
    "df.head()"
   ]
  },
  {
   "cell_type": "code",
   "execution_count": 48,
   "metadata": {},
   "outputs": [
    {
     "data": {
      "text/html": [
       "<div>\n",
       "<style scoped>\n",
       "    .dataframe tbody tr th:only-of-type {\n",
       "        vertical-align: middle;\n",
       "    }\n",
       "\n",
       "    .dataframe tbody tr th {\n",
       "        vertical-align: top;\n",
       "    }\n",
       "\n",
       "    .dataframe thead th {\n",
       "        text-align: right;\n",
       "    }\n",
       "</style>\n",
       "<table border=\"1\" class=\"dataframe\">\n",
       "  <thead>\n",
       "    <tr style=\"text-align: right;\">\n",
       "      <th></th>\n",
       "      <th>반</th>\n",
       "      <th>성명</th>\n",
       "      <th>국어</th>\n",
       "      <th>영어</th>\n",
       "      <th>수학</th>\n",
       "      <th>사회</th>\n",
       "      <th>과학</th>\n",
       "    </tr>\n",
       "  </thead>\n",
       "  <tbody>\n",
       "    <tr>\n",
       "      <th>0</th>\n",
       "      <td>1반</td>\n",
       "      <td>홍길동</td>\n",
       "      <td>93</td>\n",
       "      <td>80</td>\n",
       "      <td>94</td>\n",
       "      <td>73</td>\n",
       "      <td>64</td>\n",
       "    </tr>\n",
       "    <tr>\n",
       "      <th>1</th>\n",
       "      <td>5반</td>\n",
       "      <td>백일홍</td>\n",
       "      <td>93</td>\n",
       "      <td>63</td>\n",
       "      <td>76</td>\n",
       "      <td>84</td>\n",
       "      <td>92</td>\n",
       "    </tr>\n",
       "    <tr>\n",
       "      <th>2</th>\n",
       "      <td>3반</td>\n",
       "      <td>이삼상</td>\n",
       "      <td>94</td>\n",
       "      <td>74</td>\n",
       "      <td>86</td>\n",
       "      <td>90</td>\n",
       "      <td>70</td>\n",
       "    </tr>\n",
       "    <tr>\n",
       "      <th>3</th>\n",
       "      <td>4반</td>\n",
       "      <td>정말로</td>\n",
       "      <td>83</td>\n",
       "      <td>55</td>\n",
       "      <td>64</td>\n",
       "      <td>90</td>\n",
       "      <td>65</td>\n",
       "    </tr>\n",
       "    <tr>\n",
       "      <th>4</th>\n",
       "      <td>5반</td>\n",
       "      <td>한번도</td>\n",
       "      <td>87</td>\n",
       "      <td>95</td>\n",
       "      <td>66</td>\n",
       "      <td>75</td>\n",
       "      <td>60</td>\n",
       "    </tr>\n",
       "  </tbody>\n",
       "</table>\n",
       "</div>"
      ],
      "text/plain": [
       "    반   성명  국어  영어  수학  사회  과학\n",
       "0  1반  홍길동  93  80  94  73  64\n",
       "1  5반  백일홍  93  63  76  84  92\n",
       "2  3반  이삼상  94  74  86  90  70\n",
       "3  4반  정말로  83  55  64  90  65\n",
       "4  5반  한번도  87  95  66  75  60"
      ]
     },
     "execution_count": 48,
     "metadata": {},
     "output_type": "execute_result"
    }
   ],
   "source": [
    "df = pd.read_excel(\"C:\\\\Users\\\\Song\\\\Desktop\\\\OCU_python\\\\data\\\\성적처리.xlsx\", sheet_name = 'Sheet1')\n",
    "df.head()"
   ]
  },
  {
   "cell_type": "code",
   "execution_count": 49,
   "metadata": {},
   "outputs": [
    {
     "data": {
      "text/html": [
       "<div>\n",
       "<style scoped>\n",
       "    .dataframe tbody tr th:only-of-type {\n",
       "        vertical-align: middle;\n",
       "    }\n",
       "\n",
       "    .dataframe tbody tr th {\n",
       "        vertical-align: top;\n",
       "    }\n",
       "\n",
       "    .dataframe thead th {\n",
       "        text-align: right;\n",
       "    }\n",
       "</style>\n",
       "<table border=\"1\" class=\"dataframe\">\n",
       "  <thead>\n",
       "    <tr style=\"text-align: right;\">\n",
       "      <th></th>\n",
       "      <th>일자</th>\n",
       "      <th>가격</th>\n",
       "      <th>구매여부</th>\n",
       "      <th>제품</th>\n",
       "    </tr>\n",
       "  </thead>\n",
       "  <tbody>\n",
       "    <tr>\n",
       "      <th>0</th>\n",
       "      <td>2019-01-01</td>\n",
       "      <td>1000</td>\n",
       "      <td>False</td>\n",
       "      <td>gum</td>\n",
       "    </tr>\n",
       "    <tr>\n",
       "      <th>1</th>\n",
       "      <td>2019-01-04</td>\n",
       "      <td>1500</td>\n",
       "      <td>True</td>\n",
       "      <td>snack</td>\n",
       "    </tr>\n",
       "    <tr>\n",
       "      <th>2</th>\n",
       "      <td>2019-01-07</td>\n",
       "      <td>2000</td>\n",
       "      <td>True</td>\n",
       "      <td>beverage</td>\n",
       "    </tr>\n",
       "    <tr>\n",
       "      <th>3</th>\n",
       "      <td>2019-01-10</td>\n",
       "      <td>2500</td>\n",
       "      <td>True</td>\n",
       "      <td>dongas</td>\n",
       "    </tr>\n",
       "    <tr>\n",
       "      <th>4</th>\n",
       "      <td>2019-01-13</td>\n",
       "      <td>3000</td>\n",
       "      <td>True</td>\n",
       "      <td>alchoal</td>\n",
       "    </tr>\n",
       "  </tbody>\n",
       "</table>\n",
       "</div>"
      ],
      "text/plain": [
       "           일자    가격   구매여부        제품\n",
       "0  2019-01-01  1000  False       gum\n",
       "1  2019-01-04  1500   True     snack\n",
       "2  2019-01-07  2000   True  beverage\n",
       "3  2019-01-10  2500   True    dongas\n",
       "4  2019-01-13  3000   True   alchoal"
      ]
     },
     "execution_count": 49,
     "metadata": {},
     "output_type": "execute_result"
    }
   ],
   "source": [
    "table = {\"일자\": ['2019-01-01', '2019-01-04', '2019-01-07', '2019-01-10', '2019-01-13'],\n",
    "        \"가격\": [1000, 1500, 2000, 2500, 3000],\n",
    "        \"구매여부\": ['False', 'True', 'True', 'True', 'True'],\n",
    "        \"제품\": ['gum', 'snack', 'beverage', 'dongas', 'alchoal']}\n",
    "df = pd.DataFrame(table)\n",
    "df.head()"
   ]
  },
  {
   "cell_type": "code",
   "execution_count": 51,
   "metadata": {},
   "outputs": [],
   "source": [
    "df.to_csv(\"C:\\\\Users\\\\Song\\\\Desktop\\\\OCU_python\\\\data\\\\제품명세.csv\", encoding = 'euc-kr')"
   ]
  },
  {
   "cell_type": "code",
   "execution_count": 62,
   "metadata": {},
   "outputs": [],
   "source": [
    "df.to_excel(\"C:\\\\Users\\\\Song\\\\Desktop\\\\OCU_python\\\\data\\\\제품명세.xlsx\", index = False)"
   ]
  },
  {
   "cell_type": "code",
   "execution_count": 54,
   "metadata": {},
   "outputs": [
    {
     "name": "stdout",
     "output_type": "stream",
     "text": [
      "상품은 12000원이고, 잔돈은 -6000원입니다\n"
     ]
    }
   ],
   "source": [
    "cost = input(\"상품의 가격을 입력하세요: \")\n",
    "belong = input(\"구매를 위해 낼 돈의 금액을 입력하세요: \")\n",
    "rest = int(belong) - int(cost)\n",
    "print(\"상품은 \" + cost + \"원이고, 잔돈은 \" + str(rest) + \"원입니다\")"
   ]
  },
  {
   "cell_type": "code",
   "execution_count": 55,
   "metadata": {},
   "outputs": [
    {
     "name": "stdout",
     "output_type": "stream",
     "text": [
      "3개 과목의 평균은  700.0 입니다\n"
     ]
    }
   ],
   "source": [
    "kor = input(\"당신의 국어성적은? \")\n",
    "kor = float(kor)\n",
    "eng = input(\"당신의 영어성적은? \")\n",
    "eng = float(eng)\n",
    "math = input(\"당신의 수학성적은? \")\n",
    "math = float(math)\n",
    "avg = (kor + eng + math) / 3\n",
    "print(\"3개 과목의 평균은 \", avg, \"입니다\")"
   ]
  },
  {
   "cell_type": "code",
   "execution_count": 56,
   "metadata": {},
   "outputs": [
    {
     "name": "stdout",
     "output_type": "stream",
     "text": [
      "당신의 이름은 송창석\n",
      "순천대학교 에 소속되어 있으시군요\n",
      "당신의 나이는 20 세, 맞죠?\n"
     ]
    }
   ],
   "source": [
    "name = input(\"당신의 이름을 입력하세요: \")\n",
    "belong = input(\"당신의 소속기관을 입력하세요: \")\n",
    "birthyear = int(input(\"당신의 출생년도를 입력하세요: \"))\n",
    "print(\"당신의 이름은\", name)\n",
    "print(belong, \"에 소속되어 있으시군요\")\n",
    "print(\"당신의 나이는\", 2021 - birthyear, \"세, 맞죠?\")"
   ]
  },
  {
   "cell_type": "code",
   "execution_count": 57,
   "metadata": {},
   "outputs": [],
   "source": [
    "f = open(\"C:\\\\Users\\\\Song\\\\Desktop\\\\OCU_python\\\\새파일1.txt\", \"w\")\n",
    "for i in range(1, 11):\n",
    "    data = \"%d번 학생 축하합니다.\\n\" % i\n",
    "    f.write(data)\n",
    "f.close()"
   ]
  },
  {
   "cell_type": "code",
   "execution_count": 58,
   "metadata": {},
   "outputs": [
    {
     "name": "stdout",
     "output_type": "stream",
     "text": [
      "1번 학생 축하합니다.\n",
      "2번 학생 축하합니다.\n",
      "3번 학생 축하합니다.\n",
      "4번 학생 축하합니다.\n",
      "5번 학생 축하합니다.\n",
      "6번 학생 축하합니다.\n",
      "7번 학생 축하합니다.\n",
      "8번 학생 축하합니다.\n",
      "9번 학생 축하합니다.\n",
      "10번 학생 축하합니다.\n",
      "\n"
     ]
    }
   ],
   "source": [
    "f = open(\"C:\\\\Users\\\\Song\\\\Desktop\\\\OCU_python\\\\새파일1.txt\", \"r\")\n",
    "data = f.read()\n",
    "print(data)\n",
    "f.close()"
   ]
  }
 ],
 "metadata": {
  "kernelspec": {
   "display_name": "Python 3",
   "language": "python",
   "name": "python3"
  },
  "language_info": {
   "codemirror_mode": {
    "name": "ipython",
    "version": 3
   },
   "file_extension": ".py",
   "mimetype": "text/x-python",
   "name": "python",
   "nbconvert_exporter": "python",
   "pygments_lexer": "ipython3",
   "version": "3.12.5"
  }
 },
 "nbformat": 4,
 "nbformat_minor": 4
}
