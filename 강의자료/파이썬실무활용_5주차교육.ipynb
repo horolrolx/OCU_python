{
 "cells": [
  {
   "cell_type": "code",
   "execution_count": 1,
   "metadata": {},
   "outputs": [],
   "source": [
    "import matplotlib\n",
    "\n",
    "matplotlib.rc('font', family = 'Malgun Gothic')"
   ]
  },
  {
   "cell_type": "code",
   "execution_count": 2,
   "metadata": {},
   "outputs": [],
   "source": [
    "import warnings\n",
    "\n",
    "warnings.filterwarnings('ignore')"
   ]
  },
  {
   "cell_type": "code",
   "execution_count": 3,
   "metadata": {},
   "outputs": [],
   "source": [
    "matplotlib.rc('axes', unicode_minus = False)"
   ]
  },
  {
   "cell_type": "code",
   "execution_count": 4,
   "metadata": {},
   "outputs": [
    {
     "name": "stdout",
     "output_type": "stream",
     "text": [
      "사과를 사라\n"
     ]
    }
   ],
   "source": [
    "money = True\n",
    "if money:\n",
    "    print(\"사과를 사라\")\n",
    "else:\n",
    "    print(\"바나나를 사라\")"
   ]
  },
  {
   "cell_type": "code",
   "execution_count": 5,
   "metadata": {},
   "outputs": [
    {
     "name": "stdout",
     "output_type": "stream",
     "text": [
      "바나나를 사라\n"
     ]
    }
   ],
   "source": [
    "money = 5000\n",
    "if money >= 8000:\n",
    "    print(\"사과를 사라\")\n",
    "else:\n",
    "    print(\"바나나를 사라\")"
   ]
  },
  {
   "cell_type": "code",
   "execution_count": 6,
   "metadata": {},
   "outputs": [
    {
     "name": "stdout",
     "output_type": "stream",
     "text": [
      "정수를 입력하세요: 6\n",
      "짝수입니다.\n"
     ]
    }
   ],
   "source": [
    "number = input(\"정수를 입력하세요: \")\n",
    "number = int(number)\n",
    "if number % 2 == 0:\n",
    "    print(\"짝수입니다.\")\n",
    "else:\n",
    "    print(\"홀수입니다.\")"
   ]
  },
  {
   "cell_type": "code",
   "execution_count": 7,
   "metadata": {},
   "outputs": [
    {
     "name": "stdout",
     "output_type": "stream",
     "text": [
      "사과를 사라\n"
     ]
    }
   ],
   "source": [
    "money = 5000\n",
    "card = True\n",
    "if money >= 8000 or card:\n",
    "    print(\"사과를 사라\")\n",
    "else:\n",
    "    print(\"바나나를 사라\")"
   ]
  },
  {
   "cell_type": "code",
   "execution_count": 8,
   "metadata": {},
   "outputs": [
    {
     "name": "stdout",
     "output_type": "stream",
     "text": [
      "True\n"
     ]
    }
   ],
   "source": [
    "print(1 in [1, 2, 3])"
   ]
  },
  {
   "cell_type": "code",
   "execution_count": 9,
   "metadata": {},
   "outputs": [
    {
     "name": "stdout",
     "output_type": "stream",
     "text": [
      "False\n"
     ]
    }
   ],
   "source": [
    "print(1 not in [1, 2, 3])"
   ]
  },
  {
   "cell_type": "code",
   "execution_count": 10,
   "metadata": {},
   "outputs": [
    {
     "name": "stdout",
     "output_type": "stream",
     "text": [
      "True\n"
     ]
    }
   ],
   "source": [
    "print('a' in ('a', 'b', 'c'))"
   ]
  },
  {
   "cell_type": "code",
   "execution_count": 11,
   "metadata": {},
   "outputs": [
    {
     "name": "stdout",
     "output_type": "stream",
     "text": [
      "True\n"
     ]
    }
   ],
   "source": [
    "print('j' not in 'python')"
   ]
  },
  {
   "cell_type": "code",
   "execution_count": 12,
   "metadata": {},
   "outputs": [
    {
     "name": "stdout",
     "output_type": "stream",
     "text": [
      "과일을 사라\n"
     ]
    }
   ],
   "source": [
    "pocket = ['pen', 'phone', 'money']\n",
    "if 'money' in pocket:\n",
    "    print(\"과일을 사라\")\n",
    "else:\n",
    "    print(\"그냥 가라\")"
   ]
  },
  {
   "cell_type": "code",
   "execution_count": 13,
   "metadata": {},
   "outputs": [
    {
     "name": "stdout",
     "output_type": "stream",
     "text": [
      "과일을 사라\n"
     ]
    }
   ],
   "source": [
    "pocket = ['pen', 'phone']\n",
    "card = True\n",
    "if 'money' in pocket:\n",
    "    print(\"과일을 사라\")\n",
    "elif card:\n",
    "    print(\"과일을 사라\")\n",
    "else:\n",
    "    print(\"그냥 가라\")"
   ]
  },
  {
   "cell_type": "code",
   "execution_count": 14,
   "metadata": {},
   "outputs": [
    {
     "name": "stdout",
     "output_type": "stream",
     "text": [
      "점수를 입력하시오: 95\n",
      "A+입니다.\n"
     ]
    }
   ],
   "source": [
    "score = int(input(\"점수를 입력하시오: \"))\n",
    "if score >= 95:\n",
    "    grade = \"A+입니다.\"\n",
    "elif score >= 90:\n",
    "    grade = \"A0입니다.\"\n",
    "elif score >=85:\n",
    "    grade = \"B+입니다\"\n",
    "elif score >=80:\n",
    "    grade = \"B0입니다.\"\n",
    "else:\n",
    "    grade = \"C0입니다\"\n",
    "print(grade)"
   ]
  },
  {
   "cell_type": "code",
   "execution_count": 15,
   "metadata": {},
   "outputs": [
    {
     "name": "stdout",
     "output_type": "stream",
     "text": [
      "훌륭한 성적입니다.\n"
     ]
    }
   ],
   "source": [
    "grade = 95\n",
    "if grade >=90:\n",
    "    if grade >= 95:\n",
    "        print(\"훌륭한 성적입니다.\")\n",
    "    else:\n",
    "        print(\"좋은 성적입니다.\")\n",
    "elif (grade >= 80) and (grade < 90):\n",
    "    print(\"보통 성적입니다.\")\n",
    "else:\n",
    "    print(\"미흡한 성적입니다.\")"
   ]
  },
  {
   "cell_type": "code",
   "execution_count": 16,
   "metadata": {},
   "outputs": [
    {
     "name": "stdout",
     "output_type": "stream",
     "text": [
      "\n",
      "1.red\n",
      "2. yellow\n",
      "3. blue\n",
      "4. orange\n",
      "Enter number : \n",
      "1\n",
      "\n",
      "1.red\n",
      "2. yellow\n",
      "3. blue\n",
      "4. orange\n",
      "Enter number : \n",
      "2\n",
      "\n",
      "1.red\n",
      "2. yellow\n",
      "3. blue\n",
      "4. orange\n",
      "Enter number : \n",
      "3\n",
      "\n",
      "1.red\n",
      "2. yellow\n",
      "3. blue\n",
      "4. orange\n",
      "Enter number : \n",
      "4\n"
     ]
    }
   ],
   "source": [
    "color = \"\"\"\n",
    "1.red\n",
    "2. yellow\n",
    "3. blue\n",
    "4. orange\n",
    "Enter number : \"\"\"\n",
    "\n",
    "number = 0\n",
    "while number != 4:\n",
    "    print(color)\n",
    "    number = int(input())"
   ]
  },
  {
   "cell_type": "code",
   "execution_count": 17,
   "metadata": {},
   "outputs": [
    {
     "name": "stdout",
     "output_type": "stream",
     "text": [
      "55\n"
     ]
    }
   ],
   "source": [
    "i = 0\n",
    "sum =0\n",
    "while i < 10:\n",
    "    i = i + 1\n",
    "    sum = sum + i\n",
    "    \n",
    "print(sum)"
   ]
  },
  {
   "cell_type": "code",
   "execution_count": 18,
   "metadata": {},
   "outputs": [
    {
     "name": "stdout",
     "output_type": "stream",
     "text": [
      "1\n",
      "3\n",
      "5\n",
      "7\n",
      "9\n"
     ]
    }
   ],
   "source": [
    "i = 0\n",
    "while i < 10:\n",
    "    i = i + 1\n",
    "    if i % 2 == 1:\n",
    "        print(i)"
   ]
  },
  {
   "cell_type": "code",
   "execution_count": 19,
   "metadata": {},
   "outputs": [
    {
     "name": "stdout",
     "output_type": "stream",
     "text": [
      "[12, 15, 45, 54, 8, 7, 50]\n"
     ]
    }
   ],
   "source": [
    "a = [12, -15, 45, -54, 8, -7, 50]\n",
    "i = 0\n",
    "while i < len(a):\n",
    "    a[i] = abs(a[i])\n",
    "    i = i +1\n",
    "\n",
    "print(a)"
   ]
  },
  {
   "cell_type": "code",
   "execution_count": 20,
   "metadata": {},
   "outputs": [
    {
     "name": "stdout",
     "output_type": "stream",
     "text": [
      "돈을 받고 계란을 준다.\n",
      "남은 계란은 4개입니다.\n",
      "돈을 받고 계란을 준다.\n",
      "남은 계란은 3개입니다.\n",
      "돈을 받고 계란을 준다.\n",
      "남은 계란은 2개입니다.\n",
      "돈을 받고 계란을 준다.\n",
      "남은 계란은 1개입니다.\n",
      "돈을 받고 계란을 준다.\n",
      "남은 계란은 0개입니다.\n",
      "계란이 없습니다.\n"
     ]
    }
   ],
   "source": [
    "egg = 5\n",
    "money = 500\n",
    "while money:\n",
    "    print(\"돈을 받고 계란을 준다.\")\n",
    "    egg = egg - 1\n",
    "    print(\"남은 계란은 %d개입니다.\" % egg)\n",
    "    if egg == 0 :\n",
    "        print(\"계란이 없습니다.\")\n",
    "        break"
   ]
  },
  {
   "cell_type": "code",
   "execution_count": 21,
   "metadata": {},
   "outputs": [
    {
     "name": "stdout",
     "output_type": "stream",
     "text": [
      "1번째 반복입니다.\n",
      "수행을 종료하시겠습니다(y)?n\n",
      "2번째 반복입니다.\n",
      "수행을 종료하시겠습니다(y)?y\n",
      "반복을 종료합니다.\n"
     ]
    }
   ],
   "source": [
    "i = 0\n",
    "while True:\n",
    "    i = i + 1\n",
    "    print(\"{}번째 반복입니다.\".format(i))\n",
    "    input_text = input(\"수행을 종료하시겠습니다(y)?\")\n",
    "    if input_text in [\"y\", \"Y\"]:\n",
    "        print(\"반복을 종료합니다.\")\n",
    "        break"
   ]
  },
  {
   "cell_type": "code",
   "execution_count": 22,
   "metadata": {},
   "outputs": [
    {
     "name": "stdout",
     "output_type": "stream",
     "text": [
      "1\n",
      "3\n",
      "5\n",
      "7\n",
      "9\n"
     ]
    }
   ],
   "source": [
    "a = 0\n",
    "while a < 10:\n",
    "    a = a + 1\n",
    "    if a % 2 == 0:\n",
    "        continue\n",
    "    print(a)"
   ]
  },
  {
   "cell_type": "code",
   "execution_count": 23,
   "metadata": {},
   "outputs": [
    {
     "name": "stdout",
     "output_type": "stream",
     "text": [
      "one\n",
      "two\n",
      "three\n"
     ]
    }
   ],
   "source": [
    "test_list = ['one', 'two', 'three']\n",
    "for i in test_list:\n",
    "    print(i)"
   ]
  },
  {
   "cell_type": "code",
   "execution_count": 24,
   "metadata": {},
   "outputs": [
    {
     "name": "stdout",
     "output_type": "stream",
     "text": [
      "3\n",
      "7\n",
      "11\n"
     ]
    }
   ],
   "source": [
    "a = [(1, 2), (3, 4), (5, 6)]\n",
    "for (first, last) in a:\n",
    "    print(first + last)"
   ]
  },
  {
   "cell_type": "code",
   "execution_count": 25,
   "metadata": {},
   "outputs": [
    {
     "name": "stdout",
     "output_type": "stream",
     "text": [
      "0번째 데이터는 35입니다.\n",
      "1번째 데이터는 20입니다.\n",
      "2번째 데이터는 56입니다.\n",
      "3번째 데이터는 76입니다.\n",
      "4번째 데이터는 65입니다.\n"
     ]
    }
   ],
   "source": [
    "array = [35, 20, 56, 76, 65]\n",
    "for i in range(len(array)):\n",
    "    print(\"{}번째 데이터는 {}입니다.\".format(i, array[i]))"
   ]
  },
  {
   "cell_type": "code",
   "execution_count": 26,
   "metadata": {},
   "outputs": [
    {
     "name": "stdout",
     "output_type": "stream",
     "text": [
      "1번은 합격입니다.\n",
      "2번은 불합격입니다.\n",
      "3번은 합격입니다.\n",
      "4번은 불합격입니다.\n",
      "5번은 합격입니다.\n"
     ]
    }
   ],
   "source": [
    "avers = [80, 20, 65, 50, 90]\n",
    "num = 0\n",
    "for aver in avers:\n",
    "    num = num + 1\n",
    "    if aver >= 60:\n",
    "        print(\"%d번은 합격입니다.\" % num)\n",
    "    else:\n",
    "        print(\"%d번은 불합격입니다.\" % num)"
   ]
  },
  {
   "cell_type": "code",
   "execution_count": 27,
   "metadata": {},
   "outputs": [
    {
     "name": "stdout",
     "output_type": "stream",
     "text": [
      "1번 학생 축하합니다.\n",
      "3번 학생 축하합니다.\n",
      "5번 학생 축하합니다.\n"
     ]
    }
   ],
   "source": [
    "num = 0\n",
    "for aver in avers:\n",
    "    num = num + 1\n",
    "    if aver < 60:\n",
    "        continue\n",
    "    print(\"%d번 학생 축하합니다.\" % num)"
   ]
  },
  {
   "cell_type": "code",
   "execution_count": 28,
   "metadata": {},
   "outputs": [
    {
     "name": "stdout",
     "output_type": "stream",
     "text": [
      "55\n"
     ]
    }
   ],
   "source": [
    "plus = 0\n",
    "for i in range(1, 11):\n",
    "    plus = plus + i\n",
    "    \n",
    "print(plus)"
   ]
  },
  {
   "cell_type": "code",
   "execution_count": 29,
   "metadata": {},
   "outputs": [
    {
     "name": "stdout",
     "output_type": "stream",
     "text": [
      "당신의 몸무게는 몇 kg입니까?70\n",
      "당신의 키는 몇 xm입니까?170\n",
      "당신은 과체중입니다.\n"
     ]
    }
   ],
   "source": [
    "weight = input(\"당신의 몸무게는 몇 kg입니까?\")\n",
    "height = input(\"당신의 키는 몇 xm입니까?\")\n",
    "bmi = int(weight)/((int(height) * 0.01) ** 2)\n",
    "if bmi < 18.5 :\n",
    "    print(\"당신은 저체중입니다.\")\n",
    "elif 18.5 <= bmi and 22.9 > bmi :\n",
    "    print(\"당신은 정상체중입니다.\")\n",
    "elif 22.9 <= bmi and 24.9 > bmi:\n",
    "    print(\"당신은 과체중입니다.\")\n",
    "elif 24.9 <= bmi and 29.9 > bmi :\n",
    "    print(\"당신은 경도비만입니다.\")\n",
    "else:\n",
    "    print(\"당신은 고도비만입니다.\")"
   ]
  },
  {
   "cell_type": "code",
   "execution_count": 31,
   "metadata": {},
   "outputs": [
    {
     "name": "stdout",
     "output_type": "stream",
     "text": [
      "정수를 입력하시오 :8\n",
      "8 X 1 = 8\n",
      "8 X 2 = 16\n",
      "8 X 3 = 24\n",
      "8 X 4 = 32\n",
      "8 X 5 = 40\n",
      "8 X 6 = 48\n",
      "8 X 7 = 56\n",
      "8 X 8 = 64\n",
      "8 X 9 = 72\n"
     ]
    }
   ],
   "source": [
    "number = int(input(\"정수를 입력하시오 :\"))\n",
    "i = 1\n",
    "while i < 10:\n",
    "    print(\"%d X %d = %d\" % (number, i, number * i))\n",
    "    i = i + 1"
   ]
  },
  {
   "cell_type": "code",
   "execution_count": 32,
   "metadata": {},
   "outputs": [
    {
     "name": "stdout",
     "output_type": "stream",
     "text": [
      "정수를 입력하시오 :8\n",
      "8 X 1 = 8\n",
      "8 X 2 = 16\n",
      "8 X 3 = 24\n",
      "8 X 4 = 32\n",
      "8 X 5 = 40\n",
      "8 X 6 = 48\n",
      "8 X 7 = 56\n",
      "8 X 8 = 64\n",
      "8 X 9 = 72\n"
     ]
    }
   ],
   "source": [
    "num = int(input(\"정수를 입력하시오 :\"))\n",
    "for i in range(1, 10):\n",
    "    print(\"%d X %d = %d\" % (num, i, num * i))"
   ]
  },
  {
   "cell_type": "code",
   "execution_count": 33,
   "metadata": {},
   "outputs": [
    {
     "name": "stdout",
     "output_type": "stream",
     "text": [
      "정수를 입력하시오 : 15\n",
      "1,3,5,15,"
     ]
    }
   ],
   "source": [
    "number = int(input(\"정수를 입력하시오 : \"))\n",
    "for i in range(1, number + 1):\n",
    "    if number % i == 0:\n",
    "        print(\"%d\" % i, end =',')"
   ]
  },
  {
   "cell_type": "code",
   "execution_count": null,
   "metadata": {},
   "outputs": [],
   "source": []
  }
 ],
 "metadata": {
  "kernelspec": {
   "display_name": "Python 3",
   "language": "python",
   "name": "python3"
  },
  "language_info": {
   "codemirror_mode": {
    "name": "ipython",
    "version": 3
   },
   "file_extension": ".py",
   "mimetype": "text/x-python",
   "name": "python",
   "nbconvert_exporter": "python",
   "pygments_lexer": "ipython3",
   "version": "3.8.3"
  }
 },
 "nbformat": 4,
 "nbformat_minor": 4
}
