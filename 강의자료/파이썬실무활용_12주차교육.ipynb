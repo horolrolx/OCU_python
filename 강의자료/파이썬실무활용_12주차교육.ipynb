{
 "cells": [
  {
   "cell_type": "code",
   "execution_count": 1,
   "metadata": {},
   "outputs": [],
   "source": [
    "import matplotlib\n",
    "\n",
    "matplotlib.rc('font', family = 'Malgun Gothic')"
   ]
  },
  {
   "cell_type": "code",
   "execution_count": 2,
   "metadata": {},
   "outputs": [],
   "source": [
    "import warnings\n",
    "\n",
    "warnings.filterwarnings('ignore')"
   ]
  },
  {
   "cell_type": "code",
   "execution_count": 3,
   "metadata": {},
   "outputs": [],
   "source": [
    "matplotlib.rc('axes', unicode_minus = False)"
   ]
  },
  {
   "cell_type": "code",
   "execution_count": 4,
   "metadata": {},
   "outputs": [
    {
     "data": {
      "text/html": [
       "<div>\n",
       "<style scoped>\n",
       "    .dataframe tbody tr th:only-of-type {\n",
       "        vertical-align: middle;\n",
       "    }\n",
       "\n",
       "    .dataframe tbody tr th {\n",
       "        vertical-align: top;\n",
       "    }\n",
       "\n",
       "    .dataframe thead th {\n",
       "        text-align: right;\n",
       "    }\n",
       "</style>\n",
       "<table border=\"1\" class=\"dataframe\">\n",
       "  <thead>\n",
       "    <tr style=\"text-align: right;\">\n",
       "      <th></th>\n",
       "      <th>날짜</th>\n",
       "    </tr>\n",
       "  </thead>\n",
       "  <tbody>\n",
       "    <tr>\n",
       "      <th>0</th>\n",
       "      <td>2019-01-01</td>\n",
       "    </tr>\n",
       "    <tr>\n",
       "      <th>1</th>\n",
       "      <td>2020-03-01</td>\n",
       "    </tr>\n",
       "    <tr>\n",
       "      <th>2</th>\n",
       "      <td>2021-06-01</td>\n",
       "    </tr>\n",
       "  </tbody>\n",
       "</table>\n",
       "</div>"
      ],
      "text/plain": [
       "          날짜\n",
       "0 2019-01-01\n",
       "1 2020-03-01\n",
       "2 2021-06-01"
      ]
     },
     "execution_count": 4,
     "metadata": {},
     "output_type": "execute_result"
    }
   ],
   "source": [
    "import pandas as pd\n",
    "\n",
    "cs_dates = pd.DataFrame()\n",
    "dates = pd.DataFrame({'날짜': ['2019-01-01', '2020-03-01', '2021-06-01']})\n",
    "cs_dates['날짜'] = pd.to_datetime(dates['날짜'])\n",
    "cs_dates"
   ]
  },
  {
   "cell_type": "code",
   "execution_count": 5,
   "metadata": {},
   "outputs": [
    {
     "data": {
      "text/html": [
       "<div>\n",
       "<style scoped>\n",
       "    .dataframe tbody tr th:only-of-type {\n",
       "        vertical-align: middle;\n",
       "    }\n",
       "\n",
       "    .dataframe tbody tr th {\n",
       "        vertical-align: top;\n",
       "    }\n",
       "\n",
       "    .dataframe thead th {\n",
       "        text-align: right;\n",
       "    }\n",
       "</style>\n",
       "<table border=\"1\" class=\"dataframe\">\n",
       "  <thead>\n",
       "    <tr style=\"text-align: right;\">\n",
       "      <th></th>\n",
       "      <th>날짜</th>\n",
       "      <th>년도</th>\n",
       "      <th>월</th>\n",
       "      <th>일자</th>\n",
       "    </tr>\n",
       "  </thead>\n",
       "  <tbody>\n",
       "    <tr>\n",
       "      <th>0</th>\n",
       "      <td>2019-01-01</td>\n",
       "      <td>2019</td>\n",
       "      <td>1</td>\n",
       "      <td>1</td>\n",
       "    </tr>\n",
       "    <tr>\n",
       "      <th>1</th>\n",
       "      <td>2020-03-01</td>\n",
       "      <td>2020</td>\n",
       "      <td>3</td>\n",
       "      <td>1</td>\n",
       "    </tr>\n",
       "    <tr>\n",
       "      <th>2</th>\n",
       "      <td>2021-06-01</td>\n",
       "      <td>2021</td>\n",
       "      <td>6</td>\n",
       "      <td>1</td>\n",
       "    </tr>\n",
       "  </tbody>\n",
       "</table>\n",
       "</div>"
      ],
      "text/plain": [
       "          날짜    년도  월  일자\n",
       "0 2019-01-01  2019  1   1\n",
       "1 2020-03-01  2020  3   1\n",
       "2 2021-06-01  2021  6   1"
      ]
     },
     "execution_count": 5,
     "metadata": {},
     "output_type": "execute_result"
    }
   ],
   "source": [
    "cs_dates['년도'] = cs_dates['날짜'].dt.year\n",
    "cs_dates['월'] = cs_dates['날짜'].dt.month\n",
    "cs_dates['일자'] = cs_dates['날짜'].dt.day\n",
    "cs_dates"
   ]
  },
  {
   "cell_type": "code",
   "execution_count": 6,
   "metadata": {},
   "outputs": [
    {
     "data": {
      "text/plain": [
       "DatetimeIndex(['2019-01-01', '2020-03-01', '2021-06-01'], dtype='datetime64[ns]', freq=None)"
      ]
     },
     "execution_count": 6,
     "metadata": {},
     "output_type": "execute_result"
    }
   ],
   "source": [
    "dates = ['2019-01-01', '2020-03-01', '2021-06-01']\n",
    "cs_dates = pd.to_datetime(dates)\n",
    "cs_dates"
   ]
  },
  {
   "cell_type": "code",
   "execution_count": 7,
   "metadata": {},
   "outputs": [
    {
     "data": {
      "text/plain": [
       "PeriodIndex(['2019-01-01', '2020-03-01', '2021-06-01'], dtype='period[D]', freq='D')"
      ]
     },
     "execution_count": 7,
     "metadata": {},
     "output_type": "execute_result"
    }
   ],
   "source": [
    "pr_day = cs_dates.to_period(freq = 'D')\n",
    "pr_day"
   ]
  },
  {
   "cell_type": "code",
   "execution_count": 8,
   "metadata": {},
   "outputs": [
    {
     "data": {
      "text/plain": [
       "PeriodIndex(['2019-01', '2020-03', '2021-06'], dtype='period[M]', freq='M')"
      ]
     },
     "execution_count": 8,
     "metadata": {},
     "output_type": "execute_result"
    }
   ],
   "source": [
    "pr_month = cs_dates.to_period(freq = 'M')\n",
    "pr_month"
   ]
  },
  {
   "cell_type": "code",
   "execution_count": 9,
   "metadata": {},
   "outputs": [
    {
     "data": {
      "text/plain": [
       "PeriodIndex(['2019', '2020', '2021'], dtype='period[A-DEC]', freq='A-DEC')"
      ]
     },
     "execution_count": 9,
     "metadata": {},
     "output_type": "execute_result"
    }
   ],
   "source": [
    "pr_year = cs_dates.to_period(freq = 'A')\n",
    "pr_year"
   ]
  },
  {
   "cell_type": "code",
   "execution_count": 10,
   "metadata": {},
   "outputs": [
    {
     "data": {
      "text/plain": [
       "DatetimeIndex(['2019-01-01 00:00:00+09:00', '2019-02-01 00:00:00+09:00',\n",
       "               '2019-03-01 00:00:00+09:00', '2019-04-01 00:00:00+09:00',\n",
       "               '2019-05-01 00:00:00+09:00', '2019-06-01 00:00:00+09:00'],\n",
       "              dtype='datetime64[ns, Asia/Seoul]', freq='MS')"
      ]
     },
     "execution_count": 10,
     "metadata": {},
     "output_type": "execute_result"
    }
   ],
   "source": [
    "pr_date = pd.date_range(start = '2019-01-01', end = None, periods =6,\n",
    "                       freq = 'MS', tz = 'Asia/Seoul')\n",
    "pr_date"
   ]
  },
  {
   "cell_type": "code",
   "execution_count": 11,
   "metadata": {},
   "outputs": [
    {
     "data": {
      "text/plain": [
       "DatetimeIndex(['2019-01-31 00:00:00+09:00', '2019-02-28 00:00:00+09:00',\n",
       "               '2019-03-31 00:00:00+09:00', '2019-04-30 00:00:00+09:00',\n",
       "               '2019-05-31 00:00:00+09:00', '2019-06-30 00:00:00+09:00'],\n",
       "              dtype='datetime64[ns, Asia/Seoul]', freq='M')"
      ]
     },
     "execution_count": 11,
     "metadata": {},
     "output_type": "execute_result"
    }
   ],
   "source": [
    "pr_date = pd.date_range(start = '2019-01-01', periods = 6, freq = 'M', tz = 'Asia/Seoul')\n",
    "pr_date"
   ]
  },
  {
   "cell_type": "code",
   "execution_count": 12,
   "metadata": {},
   "outputs": [
    {
     "data": {
      "text/plain": [
       "DatetimeIndex(['2019-01-31 00:00:00+09:00', '2019-04-30 00:00:00+09:00',\n",
       "               '2019-07-31 00:00:00+09:00', '2019-10-31 00:00:00+09:00',\n",
       "               '2020-01-31 00:00:00+09:00', '2020-04-30 00:00:00+09:00'],\n",
       "              dtype='datetime64[ns, Asia/Seoul]', freq='3M')"
      ]
     },
     "execution_count": 12,
     "metadata": {},
     "output_type": "execute_result"
    }
   ],
   "source": [
    "pr_date = pd.date_range(start = '2019-01-01', periods = 6, freq = '3M', tz = 'Asia/Seoul')\n",
    "pr_date"
   ]
  },
  {
   "cell_type": "code",
   "execution_count": 13,
   "metadata": {},
   "outputs": [
    {
     "data": {
      "text/plain": [
       "DatetimeIndex(['2019-01-01 00:00:00+09:00', '2019-01-01 02:00:00+09:00',\n",
       "               '2019-01-01 04:00:00+09:00', '2019-01-01 06:00:00+09:00',\n",
       "               '2019-01-01 08:00:00+09:00', '2019-01-01 10:00:00+09:00'],\n",
       "              dtype='datetime64[ns, Asia/Seoul]', freq='2H')"
      ]
     },
     "execution_count": 13,
     "metadata": {},
     "output_type": "execute_result"
    }
   ],
   "source": [
    "pr_date = pd.date_range(start = '2019-01-01', periods = 6, freq = '2H', tz = 'Asia/Seoul')\n",
    "pr_date"
   ]
  },
  {
   "cell_type": "code",
   "execution_count": 14,
   "metadata": {},
   "outputs": [
    {
     "name": "stdout",
     "output_type": "stream",
     "text": [
      "[date 클래스로 날짜 지정] 2021-01-01\n",
      "[date 클래스의 속성 이용]2021/1/1\n",
      "[time 클래스로 시각 지정] 15:23:21\n",
      "[time 클래스의 속성 지정]15/23/21\n",
      "[datetime 클래스로 날짜와 시각 지정] 2021-01-21 20:19:45\n"
     ]
    }
   ],
   "source": [
    "from datetime import date, time, datetime, timedelta\n",
    "\n",
    "date_obj = date(2021, 1, 1)\n",
    "time_obj = time(15, 23, 21)\n",
    "datetime_obj = datetime(2021, 1, 21, 20, 19, 45)\n",
    "print(\"[date 클래스로 날짜 지정]\", date_obj)\n",
    "print(\"[date 클래스의 속성 이용]{0}/{1}/{2}\".format(date_obj.year, date_obj.month, date_obj.day))\n",
    "print(\"[time 클래스로 시각 지정]\", time_obj)\n",
    "print(\"[time 클래스의 속성 지정]{0}/{1}/{2}\".format(time_obj.hour, time_obj.minute, time_obj.second))\n",
    "print(\"[datetime 클래스로 날짜와 시각 지정]\", datetime_obj)"
   ]
  },
  {
   "cell_type": "code",
   "execution_count": 15,
   "metadata": {},
   "outputs": [
    {
     "data": {
      "text/plain": [
       "datetime.timedelta(days=20)"
      ]
     },
     "execution_count": 15,
     "metadata": {},
     "output_type": "execute_result"
    }
   ],
   "source": [
    "date_obj2 = date(2021, 1, 21)\n",
    "diff_date = date_obj2 - date_obj\n",
    "diff_date"
   ]
  },
  {
   "cell_type": "code",
   "execution_count": 16,
   "metadata": {},
   "outputs": [
    {
     "name": "stdout",
     "output_type": "stream",
     "text": [
      "두 날짜의 차이: 20일\n"
     ]
    }
   ],
   "source": [
    "print(\"두 날짜의 차이: {}일\".format(diff_date.days))"
   ]
  },
  {
   "cell_type": "code",
   "execution_count": 17,
   "metadata": {},
   "outputs": [
    {
     "name": "stdout",
     "output_type": "stream",
     "text": [
      "지정 날짜: 2021-01-15, 일 주일 전 날짜: 2021-01-08\n"
     ]
    }
   ],
   "source": [
    "date_org = date(2021, 1, 15)\n",
    "date_result = date_org - timedelta(weeks = 1)\n",
    "print(\"지정 날짜: {0}, 일 주일 전 날짜: {1}\".format(date_org, date_result))"
   ]
  },
  {
   "cell_type": "code",
   "execution_count": 18,
   "metadata": {},
   "outputs": [
    {
     "name": "stdout",
     "output_type": "stream",
     "text": [
      "2021-01-22 00:30:00\n"
     ]
    }
   ],
   "source": [
    "datetime_org = datetime(2021, 1, 21, 23, 0, 0)\n",
    "datetime_result = datetime_org + timedelta(hours = 1, minutes = 30)\n",
    "print(datetime_result)"
   ]
  },
  {
   "cell_type": "code",
   "execution_count": 19,
   "metadata": {},
   "outputs": [
    {
     "name": "stdout",
     "output_type": "stream",
     "text": [
      "오늘의 날짜 : 2021-4-22\n",
      "현재의 날짜 및 시각(전체 표시) : 2021-04-22 22:45:41.700348\n",
      "현재의 날짜 : 2021-4-22\n",
      "현재의 시각 : 22:45:41\n"
     ]
    }
   ],
   "source": [
    "today = date.today()\n",
    "now = datetime.now()\n",
    "print(\"오늘의 날짜 : {0}-{1}-{2}\".format(today.year, today.month, today.day))\n",
    "print(\"현재의 날짜 및 시각(전체 표시) :\", now)\n",
    "print(\"현재의 날짜 : {0}-{1}-{2}\".format(now.year, now.month, now.day))\n",
    "print(\"현재의 시각 : {0}:{1}:{2}\".format(now.hour, now.minute, now.second))"
   ]
  },
  {
   "cell_type": "code",
   "execution_count": 20,
   "metadata": {},
   "outputs": [
    {
     "name": "stdout",
     "output_type": "stream",
     "text": [
      "날짜 표시 : 2021년 01월 22일\n",
      "시각 표시 : 12시 30분 00초\n",
      "요일 표시 : Friday, Fri, 5\n",
      "월 표시 : January, Jan\n"
     ]
    }
   ],
   "source": [
    "special_day = datetime(2021, 1, 22, 12, 30, 0)\n",
    "print(\"날짜 표시 : {0:%Y}년 {0:%m}월 {0:%d}일\".format(special_day))\n",
    "print(\"시각 표시 : {0:%H}시 {0:%M}분 {0:%S}초\".format(special_day))\n",
    "print(\"요일 표시 : {0:%A}, {0:%a}, {0:%w}\".format(special_day))\n",
    "print(\"월 표시 : {0:%B}, {0:%b}\".format(special_day))"
   ]
  },
  {
   "cell_type": "code",
   "execution_count": 21,
   "metadata": {},
   "outputs": [
    {
     "data": {
      "text/html": [
       "<div>\n",
       "<style scoped>\n",
       "    .dataframe tbody tr th:only-of-type {\n",
       "        vertical-align: middle;\n",
       "    }\n",
       "\n",
       "    .dataframe tbody tr th {\n",
       "        vertical-align: top;\n",
       "    }\n",
       "\n",
       "    .dataframe thead th {\n",
       "        text-align: right;\n",
       "    }\n",
       "</style>\n",
       "<table border=\"1\" class=\"dataframe\">\n",
       "  <thead>\n",
       "    <tr style=\"text-align: right;\">\n",
       "      <th></th>\n",
       "      <th>카테고리</th>\n",
       "      <th>회사명</th>\n",
       "      <th>제품</th>\n",
       "      <th>가격</th>\n",
       "      <th>사용시간</th>\n",
       "      <th>흡입력</th>\n",
       "      <th>판매대수</th>\n",
       "    </tr>\n",
       "  </thead>\n",
       "  <tbody>\n",
       "    <tr>\n",
       "      <th>0</th>\n",
       "      <td>핸디/스틱청소기</td>\n",
       "      <td>샤오미</td>\n",
       "      <td>드리미 V10</td>\n",
       "      <td>173900</td>\n",
       "      <td>60.0</td>\n",
       "      <td>220.0</td>\n",
       "      <td>2.0</td>\n",
       "    </tr>\n",
       "    <tr>\n",
       "      <th>1</th>\n",
       "      <td>핸디/스틱청소기</td>\n",
       "      <td>원더스리빙</td>\n",
       "      <td>다이나킹 Z9</td>\n",
       "      <td>299000</td>\n",
       "      <td>65.0</td>\n",
       "      <td>220.0</td>\n",
       "      <td>1.0</td>\n",
       "    </tr>\n",
       "    <tr>\n",
       "      <th>2</th>\n",
       "      <td>핸디/스틱청소기</td>\n",
       "      <td>LG전자</td>\n",
       "      <td>코드제로 A9 A978</td>\n",
       "      <td>1005340</td>\n",
       "      <td>80.0</td>\n",
       "      <td>140.0</td>\n",
       "      <td>1.0</td>\n",
       "    </tr>\n",
       "    <tr>\n",
       "      <th>3</th>\n",
       "      <td>핸디/스틱청소기</td>\n",
       "      <td>델로라</td>\n",
       "      <td>V11 파워 300W</td>\n",
       "      <td>141000</td>\n",
       "      <td>70.0</td>\n",
       "      <td>220.0</td>\n",
       "      <td>1.0</td>\n",
       "    </tr>\n",
       "    <tr>\n",
       "      <th>4</th>\n",
       "      <td>핸디/스틱청소기</td>\n",
       "      <td>샤오미</td>\n",
       "      <td>드리미 V9</td>\n",
       "      <td>138800</td>\n",
       "      <td>60.0</td>\n",
       "      <td>200.0</td>\n",
       "      <td>1.0</td>\n",
       "    </tr>\n",
       "  </tbody>\n",
       "</table>\n",
       "</div>"
      ],
      "text/plain": [
       "       카테고리    회사명            제품       가격  사용시간    흡입력  판매대수\n",
       "0  핸디/스틱청소기    샤오미       드리미 V10   173900  60.0  220.0   2.0\n",
       "1  핸디/스틱청소기  원더스리빙       다이나킹 Z9   299000  65.0  220.0   1.0\n",
       "2  핸디/스틱청소기   LG전자  코드제로 A9 A978  1005340  80.0  140.0   1.0\n",
       "3  핸디/스틱청소기    델로라   V11 파워 300W   141000  70.0  220.0   1.0\n",
       "4  핸디/스틱청소기    샤오미        드리미 V9   138800  60.0  200.0   1.0"
      ]
     },
     "execution_count": 21,
     "metadata": {},
     "output_type": "execute_result"
    }
   ],
   "source": [
    "product = pd.read_excel(\"C:/OCU교육/data/제품현황.xlsx\", sheet_name = 'Sheet1')\n",
    "product.head()"
   ]
  },
  {
   "cell_type": "code",
   "execution_count": 22,
   "metadata": {},
   "outputs": [
    {
     "data": {
      "text/html": [
       "<div>\n",
       "<style scoped>\n",
       "    .dataframe tbody tr th:only-of-type {\n",
       "        vertical-align: middle;\n",
       "    }\n",
       "\n",
       "    .dataframe tbody tr th {\n",
       "        vertical-align: top;\n",
       "    }\n",
       "\n",
       "    .dataframe thead th {\n",
       "        text-align: right;\n",
       "    }\n",
       "</style>\n",
       "<table border=\"1\" class=\"dataframe\">\n",
       "  <thead>\n",
       "    <tr style=\"text-align: right;\">\n",
       "      <th></th>\n",
       "      <th>카테고리</th>\n",
       "      <th>회사명</th>\n",
       "      <th>제품</th>\n",
       "      <th>가격</th>\n",
       "      <th>사용시간</th>\n",
       "      <th>흡입력</th>\n",
       "      <th>판매대수</th>\n",
       "      <th>가격대</th>\n",
       "    </tr>\n",
       "  </thead>\n",
       "  <tbody>\n",
       "    <tr>\n",
       "      <th>0</th>\n",
       "      <td>핸디/스틱청소기</td>\n",
       "      <td>샤오미</td>\n",
       "      <td>드리미 V10</td>\n",
       "      <td>173900</td>\n",
       "      <td>60.0</td>\n",
       "      <td>220.0</td>\n",
       "      <td>2.0</td>\n",
       "      <td>30만원미만</td>\n",
       "    </tr>\n",
       "    <tr>\n",
       "      <th>1</th>\n",
       "      <td>핸디/스틱청소기</td>\n",
       "      <td>원더스리빙</td>\n",
       "      <td>다이나킹 Z9</td>\n",
       "      <td>299000</td>\n",
       "      <td>65.0</td>\n",
       "      <td>220.0</td>\n",
       "      <td>1.0</td>\n",
       "      <td>30만원미만</td>\n",
       "    </tr>\n",
       "    <tr>\n",
       "      <th>2</th>\n",
       "      <td>핸디/스틱청소기</td>\n",
       "      <td>LG전자</td>\n",
       "      <td>코드제로 A9 A978</td>\n",
       "      <td>1005340</td>\n",
       "      <td>80.0</td>\n",
       "      <td>140.0</td>\n",
       "      <td>1.0</td>\n",
       "      <td>50만원이상</td>\n",
       "    </tr>\n",
       "    <tr>\n",
       "      <th>3</th>\n",
       "      <td>핸디/스틱청소기</td>\n",
       "      <td>델로라</td>\n",
       "      <td>V11 파워 300W</td>\n",
       "      <td>141000</td>\n",
       "      <td>70.0</td>\n",
       "      <td>220.0</td>\n",
       "      <td>1.0</td>\n",
       "      <td>30만원미만</td>\n",
       "    </tr>\n",
       "    <tr>\n",
       "      <th>4</th>\n",
       "      <td>핸디/스틱청소기</td>\n",
       "      <td>샤오미</td>\n",
       "      <td>드리미 V9</td>\n",
       "      <td>138800</td>\n",
       "      <td>60.0</td>\n",
       "      <td>200.0</td>\n",
       "      <td>1.0</td>\n",
       "      <td>30만원미만</td>\n",
       "    </tr>\n",
       "  </tbody>\n",
       "</table>\n",
       "</div>"
      ],
      "text/plain": [
       "       카테고리    회사명            제품       가격  사용시간    흡입력  판매대수     가격대\n",
       "0  핸디/스틱청소기    샤오미       드리미 V10   173900  60.0  220.0   2.0  30만원미만\n",
       "1  핸디/스틱청소기  원더스리빙       다이나킹 Z9   299000  65.0  220.0   1.0  30만원미만\n",
       "2  핸디/스틱청소기   LG전자  코드제로 A9 A978  1005340  80.0  140.0   1.0  50만원이상\n",
       "3  핸디/스틱청소기    델로라   V11 파워 300W   141000  70.0  220.0   1.0  30만원미만\n",
       "4  핸디/스틱청소기    샤오미        드리미 V9   138800  60.0  200.0   1.0  30만원미만"
      ]
     },
     "execution_count": 22,
     "metadata": {},
     "output_type": "execute_result"
    }
   ],
   "source": [
    "product['가격대'] =''\n",
    "for i in range(len(product['가격'])):\n",
    "    if product['가격'].loc[i] >= 500000:\n",
    "        product['가격대'].loc[i] = '50만원이상'\n",
    "    elif product['가격'].loc[i] >= 300000:\n",
    "        product['가격대'].loc[i] = '30만원이상'\n",
    "    else:\n",
    "        product['가격대'].loc[i] = '30만원미만'\n",
    "        \n",
    "product.head()"
   ]
  },
  {
   "cell_type": "code",
   "execution_count": 23,
   "metadata": {},
   "outputs": [
    {
     "data": {
      "text/html": [
       "<div>\n",
       "<style scoped>\n",
       "    .dataframe tbody tr th:only-of-type {\n",
       "        vertical-align: middle;\n",
       "    }\n",
       "\n",
       "    .dataframe tbody tr th {\n",
       "        vertical-align: top;\n",
       "    }\n",
       "\n",
       "    .dataframe thead th {\n",
       "        text-align: right;\n",
       "    }\n",
       "</style>\n",
       "<table border=\"1\" class=\"dataframe\">\n",
       "  <thead>\n",
       "    <tr style=\"text-align: right;\">\n",
       "      <th></th>\n",
       "      <th>카테고리</th>\n",
       "      <th>회사명</th>\n",
       "      <th>제품</th>\n",
       "      <th>가격</th>\n",
       "      <th>사용시간</th>\n",
       "      <th>흡입력</th>\n",
       "      <th>판매대수</th>\n",
       "      <th>가격대</th>\n",
       "      <th>흡입강도</th>\n",
       "    </tr>\n",
       "  </thead>\n",
       "  <tbody>\n",
       "    <tr>\n",
       "      <th>0</th>\n",
       "      <td>핸디/스틱청소기</td>\n",
       "      <td>샤오미</td>\n",
       "      <td>드리미 V10</td>\n",
       "      <td>173900</td>\n",
       "      <td>60.0</td>\n",
       "      <td>220.0</td>\n",
       "      <td>2.0</td>\n",
       "      <td>30만원미만</td>\n",
       "      <td>매우좋음</td>\n",
       "    </tr>\n",
       "    <tr>\n",
       "      <th>1</th>\n",
       "      <td>핸디/스틱청소기</td>\n",
       "      <td>원더스리빙</td>\n",
       "      <td>다이나킹 Z9</td>\n",
       "      <td>299000</td>\n",
       "      <td>65.0</td>\n",
       "      <td>220.0</td>\n",
       "      <td>1.0</td>\n",
       "      <td>30만원미만</td>\n",
       "      <td>매우좋음</td>\n",
       "    </tr>\n",
       "    <tr>\n",
       "      <th>2</th>\n",
       "      <td>핸디/스틱청소기</td>\n",
       "      <td>LG전자</td>\n",
       "      <td>코드제로 A9 A978</td>\n",
       "      <td>1005340</td>\n",
       "      <td>80.0</td>\n",
       "      <td>140.0</td>\n",
       "      <td>1.0</td>\n",
       "      <td>50만원이상</td>\n",
       "      <td>좋음</td>\n",
       "    </tr>\n",
       "    <tr>\n",
       "      <th>3</th>\n",
       "      <td>핸디/스틱청소기</td>\n",
       "      <td>델로라</td>\n",
       "      <td>V11 파워 300W</td>\n",
       "      <td>141000</td>\n",
       "      <td>70.0</td>\n",
       "      <td>220.0</td>\n",
       "      <td>1.0</td>\n",
       "      <td>30만원미만</td>\n",
       "      <td>매우좋음</td>\n",
       "    </tr>\n",
       "    <tr>\n",
       "      <th>4</th>\n",
       "      <td>핸디/스틱청소기</td>\n",
       "      <td>샤오미</td>\n",
       "      <td>드리미 V9</td>\n",
       "      <td>138800</td>\n",
       "      <td>60.0</td>\n",
       "      <td>200.0</td>\n",
       "      <td>1.0</td>\n",
       "      <td>30만원미만</td>\n",
       "      <td>매우좋음</td>\n",
       "    </tr>\n",
       "  </tbody>\n",
       "</table>\n",
       "</div>"
      ],
      "text/plain": [
       "       카테고리    회사명            제품       가격  사용시간    흡입력  판매대수     가격대  흡입강도\n",
       "0  핸디/스틱청소기    샤오미       드리미 V10   173900  60.0  220.0   2.0  30만원미만  매우좋음\n",
       "1  핸디/스틱청소기  원더스리빙       다이나킹 Z9   299000  65.0  220.0   1.0  30만원미만  매우좋음\n",
       "2  핸디/스틱청소기   LG전자  코드제로 A9 A978  1005340  80.0  140.0   1.0  50만원이상    좋음\n",
       "3  핸디/스틱청소기    델로라   V11 파워 300W   141000  70.0  220.0   1.0  30만원미만  매우좋음\n",
       "4  핸디/스틱청소기    샤오미        드리미 V9   138800  60.0  200.0   1.0  30만원미만  매우좋음"
      ]
     },
     "execution_count": 23,
     "metadata": {},
     "output_type": "execute_result"
    }
   ],
   "source": [
    "product['흡입강도'] = ''\n",
    "for i in range(len(product['흡입력'])):\n",
    "    if product['흡입력'].loc[i] >= 200:\n",
    "        product['흡입강도'].loc[i] = '매우좋음'\n",
    "    elif product['흡입력'].loc[i]:\n",
    "        product['흡입강도'].loc[i] = '좋음'\n",
    "    else:\n",
    "        product['흡입강도'].loc[i] = '보통'\n",
    "        \n",
    "product.head()"
   ]
  },
  {
   "cell_type": "code",
   "execution_count": 24,
   "metadata": {},
   "outputs": [
    {
     "name": "stdout",
     "output_type": "stream",
     "text": [
      "원화입력 : 85000\n",
      "USD : 73.01\n"
     ]
    }
   ],
   "source": [
    "currency = 1164.3\n",
    "while True:\n",
    "    krw = input('원화입력 : ')\n",
    "    try:\n",
    "        usd = round(float(krw) / currency, 2)\n",
    "    except:\n",
    "        print('숫자를 입력하세요')\n",
    "        continue\n",
    "    break\n",
    "    \n",
    "print('USD :', usd)"
   ]
  },
  {
   "cell_type": "code",
   "execution_count": 25,
   "metadata": {},
   "outputs": [
    {
     "data": {
      "text/plain": [
       "datetime.date(2020, 10, 27)"
      ]
     },
     "execution_count": 25,
     "metadata": {},
     "output_type": "execute_result"
    }
   ],
   "source": [
    "from datetime import date, datetime, timedelta\n",
    "\n",
    "date(2020, 10, 27)"
   ]
  },
  {
   "cell_type": "code",
   "execution_count": 26,
   "metadata": {},
   "outputs": [
    {
     "data": {
      "text/plain": [
       "datetime.datetime(2021, 4, 22, 22, 45, 57, 923592)"
      ]
     },
     "execution_count": 26,
     "metadata": {},
     "output_type": "execute_result"
    }
   ],
   "source": [
    "datetime.now()"
   ]
  },
  {
   "cell_type": "code",
   "execution_count": 27,
   "metadata": {},
   "outputs": [
    {
     "name": "stdout",
     "output_type": "stream",
     "text": [
      "2021\n",
      "4\n",
      "22\n"
     ]
    }
   ],
   "source": [
    "today = datetime.now()\n",
    "print(today.year)\n",
    "print(today.month)\n",
    "print(today.day)"
   ]
  },
  {
   "cell_type": "code",
   "execution_count": 29,
   "metadata": {},
   "outputs": [
    {
     "name": "stdout",
     "output_type": "stream",
     "text": [
      "2019-10-01 15:30:01\n",
      "2021-04-22 22:46:25.443336\n"
     ]
    }
   ],
   "source": [
    "time1 = datetime(2019, 10, 1, 15, 30, 1)\n",
    "time2 = datetime.now()\n",
    "print(time1)\n",
    "print(time2)"
   ]
  },
  {
   "cell_type": "code",
   "execution_count": 30,
   "metadata": {},
   "outputs": [
    {
     "name": "stdout",
     "output_type": "stream",
     "text": [
      "569 일\n"
     ]
    }
   ],
   "source": [
    "print((time2 - time1).days, '일')"
   ]
  },
  {
   "cell_type": "code",
   "execution_count": 31,
   "metadata": {},
   "outputs": [
    {
     "name": "stdout",
     "output_type": "stream",
     "text": [
      "26184 초\n",
      "7.273333333333333 시간\n"
     ]
    }
   ],
   "source": [
    "print((time2 - time1).seconds, '초')\n",
    "print((time2 - time1).seconds/3600, '시간')"
   ]
  },
  {
   "cell_type": "code",
   "execution_count": 32,
   "metadata": {},
   "outputs": [
    {
     "name": "stdout",
     "output_type": "stream",
     "text": [
      "원화입력 : 85000\n",
      "USD :  73.01\n"
     ]
    }
   ],
   "source": [
    "currency = 1164.3\n",
    "krw = input('원화입력 : ')\n",
    "try:\n",
    "    usd = round(float(krw) / currency, 2)\n",
    "    print('USD : ', usd)\n",
    "except:\n",
    "    print('입력을 잘못 했습니다. 숫자를 입력하세요')"
   ]
  },
  {
   "cell_type": "code",
   "execution_count": 32,
   "metadata": {},
   "outputs": [
    {
     "name": "stdout",
     "output_type": "stream",
     "text": [
      "원화입력 : 180000\n",
      "USD : 154.6\n"
     ]
    }
   ],
   "source": [
    "currency = 1164.3\n",
    "while True:\n",
    "    krw = input('원화입력 : ')\n",
    "    try:\n",
    "        usd = round(float(krw) / currency, 2)\n",
    "    except:\n",
    "        print('숫자를 입력하세요')\n",
    "        continue\n",
    "    break\n",
    "\n",
    "print('USD :', usd)"
   ]
  },
  {
   "cell_type": "code",
   "execution_count": null,
   "metadata": {},
   "outputs": [],
   "source": []
  }
 ],
 "metadata": {
  "kernelspec": {
   "display_name": "Python 3",
   "language": "python",
   "name": "python3"
  },
  "language_info": {
   "codemirror_mode": {
    "name": "ipython",
    "version": 3
   },
   "file_extension": ".py",
   "mimetype": "text/x-python",
   "name": "python",
   "nbconvert_exporter": "python",
   "pygments_lexer": "ipython3",
   "version": "3.8.3"
  }
 },
 "nbformat": 4,
 "nbformat_minor": 4
}
